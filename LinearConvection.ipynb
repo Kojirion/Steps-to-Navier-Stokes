{
 "metadata": {
  "name": "",
  "signature": "sha256:926c81df0afd4e16569674d105d635cd32357178ef6b23c189b941dadcbb6ec1"
 },
 "nbformat": 3,
 "nbformat_minor": 0,
 "worksheets": [
  {
   "cells": [
    {
     "cell_type": "code",
     "collapsed": false,
     "input": [
      "import numpy as np\n",
      "import matplotlib.pyplot as plt\n",
      "from IPython.html.widgets import interact, interactive, fixed\n",
      "from IPython.html import widgets\n",
      "from IPython.display import clear_output, display, HTML\n",
      "%matplotlib inline\n",
      "\n",
      "nx = 81\n",
      "dx = 2./(nx-1)\n",
      "nt = 25\n",
      "dt = .025\n",
      "c = 1\n",
      "\n",
      "u = np.ones((nt, nx))\n",
      "u[0][.5/dx : 1/dx+1]=2\n",
      "\n",
      "x = np.linspace(0,2,nx)\n",
      "\n",
      "for t in range(1,nt):\n",
      "    u[t][1:] = u[t-1][1:] - c*dt/dx*(u[t-1][1:]-u[t-1][:-1])\n",
      "\n",
      "fig, ax = plt.subplots()\n",
      "l, = ax.plot(x, u[0])\n",
      "plt.close(fig)\n",
      "\n",
      "def update(**kwargs):\n",
      "    t = kwargs['Time']\n",
      "    l.set_ydata(u[t])\n",
      "    display(fig)\n",
      "interact(update, Time = widgets.IntSliderWidget(max=nt-1, value=0))"
     ],
     "language": "python",
     "metadata": {},
     "outputs": [
      {
       "metadata": {},
       "output_type": "display_data",
       "png": "[encoded data removed]",
       "text": [
        "<matplotlib.figure.Figure at 0x7f8961685d68>"
       ]
      }
     ],
     "prompt_number": 2
    }
   ],
   "metadata": {}
  }
 ]
}