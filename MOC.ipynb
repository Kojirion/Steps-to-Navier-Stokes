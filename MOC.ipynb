{
 "metadata": {
  "name": "",
  "signature": "sha256:f328ab768daa63e2ad139dcd34baee4bda86a17cab66bdd6ec81f391271c3284"
 },
 "nbformat": 3,
 "nbformat_minor": 0,
 "worksheets": [
  {
   "cells": [
    {
     "cell_type": "code",
     "collapsed": false,
     "input": [
      "import numpy as np\n",
      "from matplotlib import pyplot as plt\n",
      "from IPython.html import widgets\n",
      "from IPython.html.widgets import interact\n",
      "from IPython.display import display\n",
      "%matplotlib inline\n",
      "\n",
      "nt = 10\n",
      "\n",
      "nxi = 10\n",
      "\n",
      "sample = np.linspace(0,nxi)\n",
      "\n",
      "my_bins = np.full((nt, nxi), 10)"
     ],
     "language": "python",
     "metadata": {},
     "outputs": [],
     "prompt_number": 101
    },
    {
     "cell_type": "markdown",
     "metadata": {},
     "source": [
      "Breakage rate: $$\\Gamma(\\xi)=\\begin{cases}\n",
      "1 \\text{ if } \\xi>N-2\\\\\n",
      "0 \\text{ otherwise}\n",
      "\\end{cases}$$"
     ]
    },
    {
     "cell_type": "code",
     "collapsed": false,
     "input": [
      "def breakup_rate(xi):\n",
      "    if xi>nxi-2:\n",
      "        return 1\n",
      "    return 0\n",
      "\n",
      "vbreakup_rate = np.vectorize(breakup_rate)\n",
      "plt.plot(sample,vbreakup_rate(sample), '-o')"
     ],
     "language": "python",
     "metadata": {},
     "outputs": [
      {
       "metadata": {},
       "output_type": "pyout",
       "prompt_number": 102,
       "text": [
        "[<matplotlib.lines.Line2D at 0x7f80b19585f8>]"
       ]
      },
      {
       "metadata": {},
       "output_type": "display_data",
       "png": "[encoded data removed]",
       "text": [
        "<matplotlib.figure.Figure at 0x7f80b0f16668>"
       ]
      }
     ],
     "prompt_number": 102
    },
    {
     "cell_type": "markdown",
     "metadata": {},
     "source": [
      "Number of drops that a bubble of size \u03be breaks into: $$\\gamma(\\xi)=2$$"
     ]
    },
    {
     "cell_type": "code",
     "collapsed": false,
     "input": [
      "def gamma(xi):\n",
      "    return 2\n",
      "\n",
      "vnr_drops = np.vectorize(nr_drops)\n",
      "plt.plot(sample, vnr_drops(sample))"
     ],
     "language": "python",
     "metadata": {},
     "outputs": [
      {
       "metadata": {},
       "output_type": "pyout",
       "prompt_number": 103,
       "text": [
        "[<matplotlib.lines.Line2D at 0x7f80b0d6cb00>]"
       ]
      },
      {
       "metadata": {},
       "output_type": "display_data",
       "png": "[encoded data removed]",
       "text": [
        "<matplotlib.figure.Figure at 0x7f80b0e88c50>"
       ]
      }
     ],
     "prompt_number": 103
    },
    {
     "cell_type": "markdown",
     "metadata": {},
     "source": [
      "Number of bubbles of size \u03be formed when a bubble of size \u03be' breaks:\n",
      "$$\\beta(\\xi, \\xi')=\\begin{cases}\n",
      "\\frac{1}{\\xi} \\text{ if } \\xi<\\xi'\\\\\n",
      "0 \\text{ otherwise}\n",
      "\\end{cases}$$\n"
     ]
    },
    {
     "cell_type": "code",
     "collapsed": false,
     "input": [
      "def beta(xi, xi_prime):\n",
      "    if xi<xi_prime:\n",
      "        return 1/(xi+0.1)\n",
      "    return 0\n",
      "\n",
      "vbeta = np.vectorize(beta)\n",
      "\n",
      "betas = np.empty((nxi,len(sample)))\n",
      "\n",
      "for i in range(nxi):\n",
      "    betas[i] = vbeta(sample, i)\n",
      "    \n",
      "init_iBeta = nxi-1\n",
      "\n",
      "figBeta, axBeta = plt.subplots()\n",
      "lBeta, = axBeta.plot(sample, betas[init_iBeta])\n",
      "axBeta.set_ylim([0,10])\n",
      "plt.close(figBeta)\n",
      "\n",
      "def updateBeta(**kwargs):\n",
      "    i = kwargs['Xi_prime']\n",
      "    lBeta.set_ydata(betas[i])\n",
      "    ax.relim()\n",
      "    ax.autoscale_view(True,True,True)\n",
      "    display(figBeta)\n",
      "interact(updateBeta, Xi_prime = widgets.IntSliderWidget(max=nxi-1, value=init_iBeta))"
     ],
     "language": "python",
     "metadata": {},
     "outputs": [
      {
       "metadata": {},
       "output_type": "display_data",
       "png": "[encoded data removed]",
       "text": [
        "<matplotlib.figure.Figure at 0x7f80b1a11f60>"
       ]
      }
     ],
     "prompt_number": 104
    },
    {
     "cell_type": "markdown",
     "metadata": {},
     "source": [
      "Breakup death: $$n_{\\xi}^t = n_{\\xi}^{t-1} - \\Gamma(\\xi)$$"
     ]
    },
    {
     "cell_type": "code",
     "collapsed": false,
     "input": [
      "for t in range(1,nt):\n",
      "    for xi in range(nxi):\n",
      "        my_bins[t][xi] = my_bins[t-1][xi] - breakup_rate(xi)"
     ],
     "language": "python",
     "metadata": {},
     "outputs": [],
     "prompt_number": 108
    },
    {
     "cell_type": "markdown",
     "metadata": {},
     "source": [
      "Breakup birth: $$n_{\\xi}^t=n_{\\xi}^{t-1}+\\sum_{\\xi'=\\xi+1}^N \\Gamma(\\xi')\\beta(\\xi,\\xi')\\gamma(\\xi')$$"
     ]
    },
    {
     "cell_type": "code",
     "collapsed": false,
     "input": [
      "for t in range(1,nt):\n",
      "    for xi in range(nxi):\n",
      "        for xi_prime in range(xi+1,nxi):\n",
      "            my_bins[t][xi] = my_bins[t-1][xi] + breakup_rate(xi_prime)*beta(xi,xi_prime)*gamma(xi_prime)"
     ],
     "language": "python",
     "metadata": {},
     "outputs": [],
     "prompt_number": 110
    },
    {
     "cell_type": "code",
     "collapsed": false,
     "input": [
      "fig, ax = plt.subplots()\n",
      "init_xi = 0\n",
      "l, = ax.plot(my_bins[init_xi], 'ro-')\n",
      "plt.close(fig)\n",
      "\n",
      "def update(**kwargs):\n",
      "    t = kwargs['Time']\n",
      "    l.set_ydata(my_bins[t])\n",
      "    ax.relim()\n",
      "    ax.autoscale_view(True,True,True)\n",
      "    display(fig)\n",
      "interact(update, Time = widgets.IntSliderWidget(max=nt-1, value=init_xi))"
     ],
     "language": "python",
     "metadata": {},
     "outputs": [
      {
       "metadata": {},
       "output_type": "display_data",
       "png": "[encoded data removed]",
       "text": [
        "<matplotlib.figure.Figure at 0x7f80b0caae48>"
       ]
      }
     ],
     "prompt_number": 112
    },
    {
     "cell_type": "code",
     "collapsed": false,
     "input": [],
     "language": "python",
     "metadata": {},
     "outputs": [],
     "prompt_number": 107
    }
   ],
   "metadata": {}
  }
 ]
}