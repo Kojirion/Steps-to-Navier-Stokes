{
 "metadata": {
  "name": "",
  "signature": "sha256:3e8463c9b6b48aac8628eef72b54a7410364fe8b6cc6aa8e749ea94aa4a2938b"
 },
 "nbformat": 3,
 "nbformat_minor": 0,
 "worksheets": [
  {
   "cells": [
    {
     "cell_type": "code",
     "collapsed": false,
     "input": [
      "import numpy as np\n",
      "from matplotlib import pyplot as plt\n",
      "from matplotlib.widgets import Slider, Button, RadioButtons\n",
      "%matplotlib inline\n",
      "\n",
      "nt = 10\n",
      "\n",
      "nxi = 10\n",
      "\n",
      "my_bins = np.full((nt, nxi), 10)\n",
      "\n",
      "def breakup_rate(xi):\n",
      "    if xi>nxi-1:\n",
      "        return 1\n",
      "    return 0\n",
      "\n",
      "sample = np.linspace(0,nxi)\n",
      "plt.plot(sample,np.vectorize(breakup_rate)(sample), '-o')\n",
      "\n",
      "\n",
      "    \n",
      "def coalescence_rate(xi_1, xi_2):\n",
      "    if xi_1==0 and xi_2==6:\n",
      "        return 1\n",
      "    return 0\n",
      "\n",
      "for t in range(1,nt):\n",
      "    #breakage\n",
      "    for i in range(nxi//2):\n",
      "        doubled = 2*i+1\n",
      "        br = breakup_rate(doubled)\n",
      "        my_bins[t][i] = my_bins[t-1][i]+2*br #birth\n",
      "        my_bins[t][doubled] = my_bins[t-1][doubled] - br #death\n",
      "        \n",
      "    #coalescence\n",
      "#    for i in range(nxi):\n",
      "#        for j in (i+1, nxi):\n",
      "#            cr = coalescence_rate(i, j)\n",
      "#            my_bins[t][i] = my_bins[t-1][i] - cr\n",
      "#            my_bins[t][j] = my_bins[t-1][j] - cr\n",
      "#            my_bins[t][i+j] = my_bins[t-1][i+j] + cr\n",
      "        \n",
      "\n",
      "fig, ax = plt.subplots()\n",
      "plt.subplots_adjust(left=0.25, bottom=0.25)\n",
      "\n",
      "l, = plt.plot(my_bins[0], 'ro-')\n",
      "        \n",
      "axcolor = 'lightgoldenrodyellow'\n",
      "axfreq = plt.axes([0.25, 0.1, 0.65, 0.03], axisbg=axcolor)\n",
      "\n",
      "timeSlider = Slider(axfreq,'Time', 0.0, nt-1, valinit=0, valfmt='%0.0f')\n",
      "def update(**kwargs):\n",
      "    t = kwargs['Time']\n",
      "    l.set_ydata(my_bins[t])\n",
      "timeSlider.on_changed(update)\n",
      "\n",
      "#plt.show()"
     ],
     "language": "python",
     "metadata": {},
     "outputs": [
      {
       "metadata": {},
       "output_type": "pyout",
       "prompt_number": 20,
       "text": [
        "0"
       ]
      },
      {
       "metadata": {},
       "output_type": "display_data",
       "png": "[encoded data removed]",
       "text": [
        "<matplotlib.figure.Figure at 0x7f80b1739f28>"
       ]
      },
      {
       "metadata": {},
       "output_type": "display_data",
       "png": "[encoded data removed]",
       "text": [
        "<matplotlib.figure.Figure at 0x7f80b1739c88>"
       ]
      }
     ],
     "prompt_number": 20
    },
    {
     "cell_type": "code",
     "collapsed": false,
     "input": [
      "sample = np.linspace(0,10)"
     ],
     "language": "python",
     "metadata": {},
     "outputs": [],
     "prompt_number": 10
    },
    {
     "cell_type": "code",
     "collapsed": false,
     "input": [
      "print(sample)"
     ],
     "language": "python",
     "metadata": {},
     "outputs": [
      {
       "output_type": "stream",
       "stream": "stdout",
       "text": [
        "[  0.           0.20408163   0.40816327   0.6122449    0.81632653\n",
        "   1.02040816   1.2244898    1.42857143   1.63265306   1.83673469\n",
        "   2.04081633   2.24489796   2.44897959   2.65306122   2.85714286\n",
        "   3.06122449   3.26530612   3.46938776   3.67346939   3.87755102\n",
        "   4.08163265   4.28571429   4.48979592   4.69387755   4.89795918\n",
        "   5.10204082   5.30612245   5.51020408   5.71428571   5.91836735\n",
        "   6.12244898   6.32653061   6.53061224   6.73469388   6.93877551\n",
        "   7.14285714   7.34693878   7.55102041   7.75510204   7.95918367\n",
        "   8.16326531   8.36734694   8.57142857   8.7755102    8.97959184\n",
        "   9.18367347   9.3877551    9.59183673   9.79591837  10.        ]\n"
       ]
      }
     ],
     "prompt_number": 11
    },
    {
     "cell_type": "code",
     "collapsed": false,
     "input": [
      "print(sample-1)"
     ],
     "language": "python",
     "metadata": {},
     "outputs": [
      {
       "output_type": "stream",
       "stream": "stdout",
       "text": [
        "[-1.         -0.79591837 -0.59183673 -0.3877551  -0.18367347  0.02040816\n",
        "  0.2244898   0.42857143  0.63265306  0.83673469  1.04081633  1.24489796\n",
        "  1.44897959  1.65306122  1.85714286  2.06122449  2.26530612  2.46938776\n",
        "  2.67346939  2.87755102  3.08163265  3.28571429  3.48979592  3.69387755\n",
        "  3.89795918  4.10204082  4.30612245  4.51020408  4.71428571  4.91836735\n",
        "  5.12244898  5.32653061  5.53061224  5.73469388  5.93877551  6.14285714\n",
        "  6.34693878  6.55102041  6.75510204  6.95918367  7.16326531  7.36734694\n",
        "  7.57142857  7.7755102   7.97959184  8.18367347  8.3877551   8.59183673\n",
        "  8.79591837  9.        ]\n"
       ]
      }
     ],
     "prompt_number": 12
    },
    {
     "cell_type": "code",
     "collapsed": false,
     "input": [],
     "language": "python",
     "metadata": {},
     "outputs": []
    }
   ],
   "metadata": {}
  }
 ]
}