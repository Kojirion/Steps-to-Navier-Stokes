{
 "metadata": {
  "name": "",
  "signature": "sha256:e2d4550447e4bb044e1053e403bc9dc5b02c6f09037b103556b930e5578db122"
 },
 "nbformat": 3,
 "nbformat_minor": 0,
 "worksheets": [
  {
   "cells": [
    {
     "cell_type": "code",
     "collapsed": false,
     "input": [
      "import numpy as np\n",
      "from matplotlib import pyplot as plt\n",
      "from IPython.html import widgets\n",
      "from IPython.html.widgets import interact\n",
      "from IPython.display import display\n",
      "%matplotlib inline\n",
      "\n",
      "nt = 10\n",
      "\n",
      "nxi = 10\n",
      "\n",
      "my_bins = np.full((nt, nxi), 10)\n",
      "\n",
      "def breakup_rate(xi):\n",
      "    if xi>nxi-2:\n",
      "        return 1\n",
      "    return 0\n",
      "\n",
      "sample = np.linspace(0,nxi)\n",
      "plt.plot(sample,np.vectorize(breakup_rate)(sample), '-o')"
     ],
     "language": "python",
     "metadata": {},
     "outputs": [
      {
       "metadata": {},
       "output_type": "pyout",
       "prompt_number": 47,
       "text": [
        "[<matplotlib.lines.Line2D at 0x7f80b13fe160>]"
       ]
      },
      {
       "metadata": {},
       "output_type": "display_data",
       "png": "[encoded data removed]",
       "text": [
        "<matplotlib.figure.Figure at 0x7f80b17a8390>"
       ]
      }
     ],
     "prompt_number": 47
    },
    {
     "cell_type": "code",
     "collapsed": false,
     "input": [
      "def coalescence_rate(xi_1, xi_2):\n",
      "    if xi_1==0 and xi_2==6:\n",
      "        return 1\n",
      "    return 0\n",
      "\n",
      "for t in range(1,nt):\n",
      "    #breakage\n",
      "    for i in range(nxi//2):\n",
      "        doubled = 2*i+1\n",
      "        br = breakup_rate(doubled)\n",
      "        my_bins[t][i] = my_bins[t-1][i]+2*br #birth\n",
      "        my_bins[t][doubled] = my_bins[t-1][doubled] - br #death\n",
      "        \n",
      "    #coalescence\n",
      "#    for i in range(nxi):\n",
      "#        for j in (i+1, nxi):\n",
      "#            cr = coalescence_rate(i, j)\n",
      "#            my_bins[t][i] = my_bins[t-1][i] - cr\n",
      "#            my_bins[t][j] = my_bins[t-1][j] - cr\n",
      "#            my_bins[t][i+j] = my_bins[t-1][i+j] + cr\n",
      "        \n",
      "\n",
      "fig, ax = plt.subplots()\n",
      "l, = ax.plot(my_bins[0], 'ro-')\n",
      "plt.close(fig)\n",
      "\n",
      "def update(**kwargs):\n",
      "    t = kwargs['Time']\n",
      "    l.set_ydata(my_bins[t])\n",
      "    ax.relim()\n",
      "    ax.autoscale_view(True,True,True)\n",
      "    display(fig)\n",
      "interact(update, Time = widgets.IntSliderWidget(max=nt-1, value=0))"
     ],
     "language": "python",
     "metadata": {},
     "outputs": [
      {
       "metadata": {},
       "output_type": "display_data",
       "png": "[encoded data removed]",
       "text": [
        "<matplotlib.figure.Figure at 0x7f80b16ffa20>"
       ]
      }
     ],
     "prompt_number": 50
    },
    {
     "cell_type": "code",
     "collapsed": false,
     "input": [],
     "language": "python",
     "metadata": {},
     "outputs": []
    }
   ],
   "metadata": {}
  }
 ]
}